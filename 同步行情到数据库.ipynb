{
 "cells": [
  {
   "cell_type": "code",
   "execution_count": 1,
   "metadata": {},
   "outputs": [],
   "source": [
    "from cl_v2 import exchange_binance\n",
    "from cl_v2 import exchange\n",
    "from cl_v2 import exchange_futu\n",
    "from cl_v2 import exchange_db"
   ]
  },
  {
   "cell_type": "code",
   "execution_count": 2,
   "metadata": {},
   "outputs": [],
   "source": [
    "market = 'currency'\n",
    "codes = ['ETH/USDT']\n",
    "frequencys = ['d', '4h', '60m', '30m', '15m', '5m', '1m']\n",
    "default_startdate = '2020-01-01 00:00:00'\n",
    "# 数据库交易，用于记录行情数据\n",
    "exchange = exchange_db.ExchangeDB(market)\n",
    "exchange.create_tables(codes)\n",
    "# 在线交易所，用于获取行情\n",
    "line_exchange = exchange_binance.ExchangeBinance()"
   ]
  },
  {
   "cell_type": "code",
   "execution_count": 3,
   "metadata": {},
   "outputs": [
    {
     "name": "stdout",
     "output_type": "stream",
     "text": [
      "Run code ETH/USDT frequency d klines len 1\n",
      "Run code ETH/USDT frequency 4h klines len 1\n",
      "Run code ETH/USDT frequency 60m klines len 1\n",
      "Run code ETH/USDT frequency 30m klines len 1\n",
      "Run code ETH/USDT frequency 15m klines len 1\n",
      "Run code ETH/USDT frequency 5m klines len 1\n",
      "Run code ETH/USDT frequency 1m klines len 5\n",
      "Run code ETH/USDT frequency 1m klines len 1\n",
      "Done\n"
     ]
    }
   ],
   "source": [
    "for code in codes:\n",
    "    for f in frequencys:\n",
    "        while True:\n",
    "            last_dt = exchange.query_last_datetime(code, f)\n",
    "            if last_dt is None:\n",
    "                klines = line_exchange.klines(code, f, end_date=default_startdate)\n",
    "                if len(klines) == 0:\n",
    "                    klines = line_exchange.klines(code, f, start_date=default_startdate) # 从交易所拿K数据\n",
    "            else:\n",
    "                klines = line_exchange.klines(code, f, start_date=last_dt)\n",
    "\n",
    "            print('Run code %s frequency %s klines len %s' % (code, f, len(klines)))\n",
    "            exchange.insert_klines(code, f, klines)\n",
    "            if len(klines) <= 1:\n",
    "                break\n",
    "print('Done')"
   ]
  }
 ],
 "metadata": {
  "kernelspec": {
   "display_name": "Python 3",
   "language": "python",
   "name": "python3"
  },
  "language_info": {
   "codemirror_mode": {
    "name": "ipython",
    "version": 3
   },
   "file_extension": ".py",
   "mimetype": "text/x-python",
   "name": "python",
   "nbconvert_exporter": "python",
   "pygments_lexer": "ipython3",
   "version": "3.10.7"
  },
  "vscode": {
   "interpreter": {
    "hash": "b1d399bba552c10b7af55daa8f52577af45bd74015f0f609ad4a29a83ca8cf84"
   }
  }
 },
 "nbformat": 4,
 "nbformat_minor": 4
}
